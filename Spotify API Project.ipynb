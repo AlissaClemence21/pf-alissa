{
 "cells": [
  {
   "cell_type": "markdown",
   "metadata": {},
   "source": [
    "## Spotify API project"
   ]
  },
  {
   "cell_type": "markdown",
   "metadata": {},
   "source": [
    "This project aims at using the Spotify API to retrieve different information about one of my playlist, such as music features, top artists and their top tracks, and genres.\n",
    "\n",
    "\n",
    "This project was done during my MSc of Business Analytics.\n",
    "For this project we refer to Spotify's API documentation https://developer.spotify.com/documentation/web-api/"
   ]
  },
  {
   "cell_type": "code",
   "execution_count": null,
   "metadata": {},
   "outputs": [],
   "source": [
    "client_id = #insert your key\n",
    "client_secret = #insert your key"
   ]
  },
  {
   "cell_type": "markdown",
   "metadata": {},
   "source": [
    "We start by making a call request to the API"
   ]
  },
  {
   "cell_type": "code",
   "execution_count": null,
   "metadata": {},
   "outputs": [],
   "source": [
    "import requests\n",
    "\n",
    "# URL for token resource\n",
    "auth_url = 'https://accounts.spotify.com/api/token'\n",
    "\n",
    "# request body\n",
    "params = {'grant_type': 'client_credentials',\n",
    "          'client_id': client_id,\n",
    "          'client_secret': client_secret}\n",
    "\n",
    "# POST the request\n",
    "auth_response = requests.post(auth_url, params).json()"
   ]
  },
  {
   "cell_type": "markdown",
   "metadata": {},
   "source": [
    "We then retrieve the token access"
   ]
  },
  {
   "cell_type": "code",
   "execution_count": null,
   "metadata": {},
   "outputs": [],
   "source": [
    "access_token = auth_response['access_token']\n",
    "print(access_token)"
   ]
  },
  {
   "cell_type": "markdown",
   "metadata": {},
   "source": [
    "Run the following header to save it as a variable"
   ]
  },
  {
   "cell_type": "code",
   "execution_count": null,
   "metadata": {},
   "outputs": [],
   "source": [
    "headers = {'Authorization': 'Bearer {token}'.format(token=access_token)}"
   ]
  },
  {
   "cell_type": "markdown",
   "metadata": {},
   "source": [
    "We first want to retrieve the audio features endpoint"
   ]
  },
  {
   "cell_type": "code",
   "execution_count": 1,
   "metadata": {},
   "outputs": [],
   "source": [
    "#define the base url\n",
    "base_url = 'https://api.spotify.com/v1/'\n",
    "#use the audio_feature endpoint\n",
    "audio_features_endpoint = base_url+'audio-features'"
   ]
  },
  {
   "cell_type": "markdown",
   "metadata": {},
   "source": [
    "# Retrieving one song features"
   ]
  },
  {
   "cell_type": "markdown",
   "metadata": {},
   "source": [
    "As a first exercise, we will retrieve the features of the song Creep by Radiohead"
   ]
  },
  {
   "cell_type": "code",
   "execution_count": null,
   "metadata": {},
   "outputs": [],
   "source": [
    "#extract song's string\n",
    "string =  'spotify:track:6b2oQwSGFkzsMtQruIWm2p'\n",
    "track_id = string[14:]"
   ]
  },
  {
   "cell_type": "markdown",
   "metadata": {},
   "source": [
    "We then make a request to the API"
   ]
  },
  {
   "cell_type": "code",
   "execution_count": null,
   "metadata": {},
   "outputs": [],
   "source": [
    "params = { 'ids' : track_id}\n",
    "          r = requests.get(audio_features_endpoint, params = params, headers=headers)\n",
    "creep = r.json()\n",
    "print(creep)"
   ]
  },
  {
   "cell_type": "markdown",
   "metadata": {},
   "source": [
    "# Retrieving information from a playlist"
   ]
  },
  {
   "cell_type": "markdown",
   "metadata": {},
   "source": [
    "As a second exercise, we will retrieve data from your chosen playlist. Simply extract the link of the playlist of your choice to start with."
   ]
  },
  {
   "cell_type": "code",
   "execution_count": null,
   "metadata": {},
   "outputs": [],
   "source": [
    "#retrieved link from : https://open.spotify.com/playlist/0aUiX1IM1m1W3LZf447qpi?si=a619ba7f28dc483b\n",
    "string ='spotify:playlist:0aUiX1IM1m1W3LZf447qpi'\n",
    "playlist_id = string[17:]\n",
    "print(playlist_id)\n"
   ]
  },
  {
   "cell_type": "code",
   "execution_count": null,
   "metadata": {},
   "outputs": [],
   "source": [
    "#create appropriate URL first and then add playlist id and same header params\n",
    "playlist_response = requests.get(base_url+'playlists/'+playlist_id +'/tracks',headers=headers)\n",
    "print(playlist_response)"
   ]
  },
  {
   "cell_type": "code",
   "execution_count": null,
   "metadata": {},
   "outputs": [],
   "source": [
    "playlist = playlist_response.json()\n",
    "playlist"
   ]
  },
  {
   "cell_type": "markdown",
   "metadata": {},
   "source": [
    "Now that we have our playlist request done, we will create lists to store the different items : title, album, artist, duration, track number, realase date, track populrity, track id, number of available markets"
   ]
  },
  {
   "cell_type": "code",
   "execution_count": null,
   "metadata": {},
   "outputs": [],
   "source": [
    "#create new list for items\n",
    "playlist_items = playlist['items']\n",
    "playlist_items\n",
    "\n",
    "#create empty list for each items\n",
    "title = []\n",
    "album = []\n",
    "artist = []\n",
    "duration = []\n",
    "track_number = []\n",
    "release_date = []\n",
    "track_popularity = []\n",
    "track_id = []\n",
    "n_available_markets = []\n",
    "\n",
    "#loop through the items and append them\n",
    "\n",
    "for i in playlist_items:\n",
    "    title.append(i['track']['name'])\n",
    "    album.append(i['track']['album']['name'])\n",
    "    artist.append(i['track']['artists'][0]['name'])\n",
    "    duration.append(i['track']['duration_ms'])\n",
    "    track_number.append(i['track']['track_number'])\n",
    "    release_date.append(i['track']['album']['release_date'])\n",
    "    track_popularity.append(i['track']['popularity'])\n",
    "    track_id.append(i['track']['id'])\n",
    "    \n",
    "#incoporate an if function in case the markets are not available to have \"none\" appear\n",
    "    if len(i['track']['album']['available_markets']) == 0:\n",
    "        n_available_markets.append(None)\n",
    "    else:\n",
    "        n_available_markets.append(len(i['track']['album']['available_markets']))"
   ]
  },
  {
   "cell_type": "markdown",
   "metadata": {},
   "source": [
    "We will now retrieve further information about our playlist songs, more specifically the *audio features*"
   ]
  },
  {
   "cell_type": "code",
   "execution_count": null,
   "metadata": {},
   "outputs": [],
   "source": [
    "#YOUR CODE HERE\n",
    "\n",
    "#make the request to the API\n",
    "params = {'ids' : ','.join(track_id)}\n",
    "result = requests.get(audio_features_endpoint, headers = headers , params = params).json()\n",
    "\n",
    "\n",
    "#create main list\n",
    "playlist_audio_features = result['audio_features']\n",
    "\n",
    "#create empty list for each items\n",
    "danceability = []\n",
    "energy = []\n",
    "loudness = []\n",
    "mode = []\n",
    "speechiness = []\n",
    "acousticness = []\n",
    "instrumentalness = []\n",
    "liveness = []\n",
    "valence = []\n",
    "tempo = []\n",
    "\n",
    "\n",
    "\n",
    "#loop through the items and append them\n",
    "\n",
    "for i in playlist_audio_features:\n",
    "    danceability.append(i['danceability'])\n",
    "    energy.append(i['energy'])\n",
    "    loudness.append(i['loudness'])\n",
    "    mode.append(i['mode'])\n",
    "    speechiness.append(i['speechiness'])\n",
    "    acousticness.append(i['acousticness'])\n",
    "    instrumentalness.append(i['instrumentalness'])\n",
    "    liveness.append(i['liveness'])\n",
    "    valence.append(i['valence'])\n",
    "    tempo.append(i['tempo'])\n"
   ]
  },
  {
   "cell_type": "markdown",
   "metadata": {},
   "source": [
    "# Retrieving artist information"
   ]
  },
  {
   "cell_type": "markdown",
   "metadata": {},
   "source": [
    "With the same playlist that we have worked with, we will retrieve its *artists information*. We will retrieve the followers, genre and the artist popularity."
   ]
  },
  {
   "cell_type": "code",
   "execution_count": null,
   "metadata": {},
   "outputs": [],
   "source": [
    "# YOUR CODE HERE\n",
    "artist_info = []\n",
    "\n",
    "    #code to get the artist ids\n",
    "for i in playlist_items:\n",
    "    artist_info.append(i['track']['artists'][0]['id'])\n",
    "\n",
    "    #code to get the first 50 ids from the ones above\n",
    "artist_url = 'https://api.spotify.com/v1/artists'\n",
    "params = {'ids' : ','.join(artist_info[:50])}\n",
    "r = requests.get(artist_url, headers = headers , params = params).json()\n",
    "artist_response = r['artists']\n",
    "\n",
    "artist_followers = []\n",
    "genre =[]\n",
    "artist_popularity=[]\n",
    "\n",
    "for i in artist_response:\n",
    "    artist_followers.append(i['followers']['total'])\n",
    "    artist_popularity.append(i['popularity'])\n",
    "    if len(i['genres']) == 0:\n",
    "        genre.append(None)\n",
    "    else:\n",
    "        genre.append(i['genres'][0])\n",
    "\n",
    "print(artist_followers)\n",
    "print(genre)\n",
    "print(artist_popularity)"
   ]
  },
  {
   "cell_type": "markdown",
   "metadata": {},
   "source": [
    "As a second step, we will now retrieve the *unique track ids* of the artists available in the playlist"
   ]
  },
  {
   "cell_type": "code",
   "execution_count": null,
   "metadata": {},
   "outputs": [],
   "source": [
    "unique_artist_id = []\n",
    "for id in artist_info:\n",
    "    if id in unique_artist_id:\n",
    "        pass\n",
    "    if id not in unique_artist_id:\n",
    "        unique_artist_id.append(id)\n",
    "unique_artist_id"
   ]
  },
  {
   "cell_type": "markdown",
   "metadata": {},
   "source": [
    "We are now interested in retrieving catalog information about each artist’s top tracks. This information is provided by Spotify's API on a country basis. Here, we will retrieve the information corresponding to Spain, whose ISO 3166-1 alpha-2 code is ES. The information we are looking for is store dun der to top-tracks endpoint for artists. Requests to this location retrieve the 10 most famous tracks for a given artist id."
   ]
  },
  {
   "cell_type": "code",
   "execution_count": null,
   "metadata": {},
   "outputs": [],
   "source": [
    "# YOUR CODE HERE\n",
    "top_tracks = dict.fromkeys(artist_info)\n",
    "params = {'market':'ES'}\n",
    "\n",
    "counter_1 =0\n",
    "\n",
    "for i in range(len(unique_artist_id)):\n",
    "    artist = unique_artist_id[counter_1]\n",
    "    url = 'https://api.spotify.com/v1/artists/' + artist + '/top-tracks'\n",
    "    tracks_artist = (requests.get(url, params = params, headers = headers).json())['tracks']\n",
    "    top_tracks_artist = []\n",
    "    counter_2 = 0\n",
    "    \n",
    "    for i in tracks_artist:\n",
    "        top_tracks_artist.append(tracks_artist[counter_2]['name'])\n",
    "        counter_2 += 1\n",
    "        \n",
    "    top_tracks[artist] = top_tracks_artist   \n",
    "    counter_1 += 1\n",
    "    \n",
    "top_tracks"
   ]
  },
  {
   "cell_type": "markdown",
   "metadata": {},
   "source": [
    "We will now write a code to idenfity if the different tracks in our chosen playlist are included among the corresponding artist's top tracks. We will store the restuls in a list called *is_top*. It will contain an entry \"yes\" whenever it is part of the top songs, or a \"None\" if it is not the case. The code will look for exact matches only."
   ]
  },
  {
   "cell_type": "code",
   "execution_count": null,
   "metadata": {},
   "outputs": [],
   "source": [
    "params = {'market':'ES'}\n",
    "counter_1 = 0\n",
    "is_top = []\n",
    "\n",
    "for i in range(len(track_id)):\n",
    "    artist_loop = artist_info[counter_1]\n",
    "    url = 'https://api.spotify.com/v1/artists/' + artist_loop + '/top-tracks'\n",
    "    tracks_artist = (requests.get(url, params = params, headers = headers).json())['tracks']\n",
    "    tracks_artist_ids = []\n",
    "    counter_2 = 0\n",
    "    for i in tracks_artist:\n",
    "        tracks_artist_ids.append(tracks_artist[counter_2]['id'])\n",
    "        counter_2 += 1\n",
    "    if str(track_id[counter_1]) in tracks_artist_ids:\n",
    "        is_top.append('Yes')\n",
    "    else:\n",
    "        is_top.append(None)\n",
    "    counter_1 += 1\n",
    "\n",
    "yes_counter = 0\n",
    "none_counter = 0\n",
    "\n",
    "for i in is_top:\n",
    "    if i == 'Yes':\n",
    "        yes_counter += 1\n",
    "    if i == None:\n",
    "        none_counter += 1\n",
    "\n",
    "is_top\n"
   ]
  },
  {
   "cell_type": "markdown",
   "metadata": {},
   "source": [
    "Finally, we store this data in a dataframe and download it as a CSV file"
   ]
  },
  {
   "cell_type": "code",
   "execution_count": null,
   "metadata": {},
   "outputs": [],
   "source": [
    "# YOUR CODE HERE\n",
    "import pandas as pd\n",
    "\n",
    "df=  pd.DataFrame(data={\n",
    "    'title':title,\n",
    "    'album':album,\n",
    "    'artist':artist,\n",
    "    'duration':duration,\n",
    "    'track_number':track_number,\n",
    "    'release_date':release_date,\n",
    "    'track_id':track_id,\n",
    "    'track_popularity': track_popularity,\n",
    "    'n_available_markets':n_available_markets,\n",
    "    'danceability':danceability,\n",
    "    'energy':loudness,\n",
    "    'mode':mode,\n",
    "    'speechiness':speechiness,\n",
    "    'acousticness':acousticness,\n",
    "    'instrumentalness':instrumentalness,\n",
    "    'liveness':liveness,\n",
    "    'valence':valence,\n",
    "    'tempo':tempo,\n",
    "    'followers':artist_followers,\n",
    "    'genre':genre,\n",
    "    'popularity':artist_popularity,\n",
    "    'top 10': is_top\n",
    "})\n",
    "\n",
    "\n",
    "df.to_csv(r'#PATH TO YOUR SAVING LOCATION')\n",
    "df"
   ]
  }
 ],
 "metadata": {
  "kernelspec": {
   "display_name": "Python 3",
   "language": "python",
   "name": "python3"
  },
  "language_info": {
   "codemirror_mode": {
    "name": "ipython",
    "version": 3
   },
   "file_extension": ".py",
   "mimetype": "text/x-python",
   "name": "python",
   "nbconvert_exporter": "python",
   "pygments_lexer": "ipython3",
   "version": "3.8.5"
  }
 },
 "nbformat": 4,
 "nbformat_minor": 4
}
