{
 "cells": [
  {
   "cell_type": "markdown",
   "metadata": {},
   "source": [
    "# Airbnb webscrapping project"
   ]
  },
  {
   "cell_type": "markdown",
   "metadata": {},
   "source": [
    "This project aims at creating a webscrapper for Airbnb using the *BeautifulSoup* librabry.\n",
    "As an example, we take the following Airbnb link for vacation stay in Bali between the 29th of Dec 2021 and 5th of Jan 2022: https://www.airbnb.com/s/Bali--Indonesia/homes?tab_id=home_tab&refinement_paths%5B%5D=%2Fhomes&flexible_trip_dates%5B%5D=november&flexible_trip_dates%5B%5D=october&flexible_trip_lengths%5B%5D=weekend_trip&date_picker_type=calendar&query=Bali%2C%20Indonesia&place_id=ChIJoQ8Q6NNB0S0RkOYkS7EPkSQ&checkin=2021-12-29&checkout=2022-01-03&source=structured_search_input_header&search_type=autocomplete_click\n",
    "\n",
    "Note : you may need to change the link, as this links uses travel dates between Dec 29th 2021 and Jan 5th 2022.\n",
    "Moreover, Airbnb might change the classes. If that is the case, please check the HTML to retrieve the corresponding classes."
   ]
  },
  {
   "cell_type": "markdown",
   "metadata": {},
   "source": [
    "# Getting started"
   ]
  },
  {
   "cell_type": "markdown",
   "metadata": {},
   "source": [
    "Start by defining your URL"
   ]
  },
  {
   "cell_type": "code",
   "execution_count": null,
   "metadata": {},
   "outputs": [],
   "source": [
    "#Start by defining the URL you want to use:\n",
    "url = \"https://www.airbnb.com/s/Bali--Indonesia/homes?tab_id=home_tab&refinement_paths%5B%5D=%2Fhomes&flexible_trip_dates%5B%5D=november&flexible_trip_dates%5B%5D=october&flexible_trip_lengths%5B%5D=weekend_trip&date_picker_type=calendar&query=Bali%2C%20Indonesia&place_id=ChIJoQ8Q6NNB0S0RkOYkS7EPkSQ&checkin=2021-12-29&checkout=2022-01-03&source=structured_search_input_header&search_type=autocomplete_click\""
   ]
  },
  {
   "cell_type": "markdown",
   "metadata": {},
   "source": [
    "Import all of the required libraries"
   ]
  },
  {
   "cell_type": "code",
   "execution_count": 1,
   "metadata": {},
   "outputs": [],
   "source": [
    "#import required libraries\n",
    "from bs4 import BeautifulSoup\n",
    "import requests\n",
    "import re\n",
    "import pandas as pd"
   ]
  },
  {
   "cell_type": "markdown",
   "metadata": {},
   "source": [
    "Let's begin by making a request to retrieve the HTML code for this website. Since this is an action that you may need to perform several times throughout the project, let's encapsulate the corresponding code in a function."
   ]
  },
  {
   "cell_type": "code",
   "execution_count": null,
   "metadata": {},
   "outputs": [],
   "source": [
    "def get_page(url):\n",
    "    result = requests.get(url)\n",
    "    content = result.content\n",
    "    return BeautifulSoup(content, 'html.parser')\n",
    "get_page(url)"
   ]
  },
  {
   "cell_type": "markdown",
   "metadata": {},
   "source": [
    "# Retrieving the data"
   ]
  },
  {
   "cell_type": "markdown",
   "metadata": {},
   "source": [
    "We start by retrieving information for the first listing available on the Airbnb page. This code retrieves the information as much as necessary, since Airbnb can prevent web scrapping."
   ]
  },
  {
   "cell_type": "code",
   "execution_count": null,
   "metadata": {},
   "outputs": [],
   "source": [
    "#create function to retrieve the first listing, assuming no fake listing\n",
    "def get_listing(page) :\n",
    "    return page.find('div', attrs={\"itemscope\": True})\n",
    "       \n",
    "#try this function in case airbnb prevents scraping\n",
    "def get_page_with_retry(url) :\n",
    "    attempt = 0\n",
    "    while attempt < 20 :\n",
    "        page = get_page(url)\n",
    "        first_listing = page.find('div', attrs={\"itemscope\": True})\n",
    "        if get_listing(page) :\n",
    "            return page\n",
    "        \n",
    "        attempt = attempt + 1\n",
    "        print(\"   ...retrying. attempt: \" + str(attempt + 1))\n",
    "    \n",
    "    print(\"Can't find page with first listing!\")\n",
    "    return None\n",
    "\n",
    "#store page to be able to test other functions without reloading\n",
    "page = get_page_with_retry(url)\n",
    "#print(page.prettify())   \n",
    "\n",
    "#test store first_listing for testing other functions\n",
    "first_listing = get_listing(page)\n",
    "print(first_listing.prettify())"
   ]
  },
  {
   "cell_type": "markdown",
   "metadata": {},
   "source": [
    "We then write the code to retrieve the listing title"
   ]
  },
  {
   "cell_type": "code",
   "execution_count": null,
   "metadata": {},
   "outputs": [],
   "source": [
    "def get_listing_title(tag):\n",
    "    title = tag.find('meta',attrs={'itemprop':'name'})\n",
    "    if title == None:\n",
    "        return None\n",
    "    else:\n",
    "        return title['content']\n",
    "get_listing_title(first_listing)"
   ]
  },
  {
   "cell_type": "markdown",
   "metadata": {},
   "source": [
    "Then we retrieve the subtitle"
   ]
  },
  {
   "cell_type": "code",
   "execution_count": null,
   "metadata": {},
   "outputs": [],
   "source": [
    "def get_listing_subtitle(tag):\n",
    "    subtitle = tag.find('div',{'class':'_1xzimiid'}).text\n",
    "    if subtitle == None:\n",
    "        return None\n",
    "    else:\n",
    "        return subtitle\n",
    "get_listing_subtitle(first_listing)"
   ]
  },
  {
   "cell_type": "markdown",
   "metadata": {},
   "source": [
    "We now want to retrieve the listing information, such as the number of rooms, beds, baths and capacity"
   ]
  },
  {
   "cell_type": "code",
   "execution_count": null,
   "metadata": {},
   "outputs": [],
   "source": [
    "def get_listing_info(tag):\n",
    "    info = tag.find('div',{'class':'_3c0zz1'}).text\n",
    "    if info == None:\n",
    "        return None\n",
    "    else:\n",
    "        return info\n",
    "get_listing_info(first_listing)"
   ]
  },
  {
   "cell_type": "markdown",
   "metadata": {},
   "source": [
    "We now move to the ammenities, and extract information such as : pool, hairdryer, kitchen, etc"
   ]
  },
  {
   "cell_type": "code",
   "execution_count": null,
   "metadata": {},
   "outputs": [],
   "source": [
    "def get_listing_ammenities(tag):\n",
    "    ammenities = tag.find('div',{'class':'_3c0zz1'}).next_sibling.text\n",
    "    if ammenities == None:\n",
    "        return None\n",
    "    else:\n",
    "        return ammenities\n",
    "get_listing_ammenities(first_listing)"
   ]
  },
  {
   "cell_type": "markdown",
   "metadata": {},
   "source": [
    "To continue, we retrieve the price of the listing"
   ]
  },
  {
   "cell_type": "code",
   "execution_count": null,
   "metadata": {},
   "outputs": [],
   "source": [
    "def get_listing_rating(tag):\n",
    "    rating = tag.find('span',{'class':'_10fy1f8'})\n",
    "    if rating == None:\n",
    "        return None\n",
    "    else:\n",
    "        return float(rating.text)\n",
    "get_listing_rating(first_listing)"
   ]
  },
  {
   "cell_type": "markdown",
   "metadata": {},
   "source": [
    "Now we retrieve the number of reviews available for each listing"
   ]
  },
  {
   "cell_type": "code",
   "execution_count": null,
   "metadata": {},
   "outputs": [],
   "source": [
    "def get_listing_reviews(tag):\n",
    "    reviews = tag.find('span',{'class':'_a7a5sx'})\n",
    "    if reviews == None:\n",
    "        return None\n",
    "    else:\n",
    "        return int(reviews.text.split('(')[1].split()[0])\n",
    "get_listing_reviews(first_listing)"
   ]
  },
  {
   "cell_type": "markdown",
   "metadata": {},
   "source": [
    "Now we retrieve the price of the listing. Note that we remove the currency sign before the price. Depending in which country you are, you may need to adapt this code."
   ]
  },
  {
   "cell_type": "code",
   "execution_count": null,
   "metadata": {},
   "outputs": [],
   "source": [
    "def get_listing_price_per_night(tag):\n",
    "    price = tag.find('span',{'class':'_tyxjp1'})\n",
    "    if price == None:\n",
    "        return None\n",
    "    else:\n",
    "#replace argument in case a price per night over a 1000 appears and has commas\n",
    "        return float(price.text[1:].replace(',',''))\n",
    "get_listing_price_per_night(first_listing)"
   ]
  },
  {
   "cell_type": "markdown",
   "metadata": {},
   "source": [
    "We now retrieve the total price for our stay. Again, we remove the currency sign before the price. Moreover, this code only takes into account the discounted price."
   ]
  },
  {
   "cell_type": "code",
   "execution_count": null,
   "metadata": {},
   "outputs": [],
   "source": [
    "def get_listing_total_price(tag):\n",
    "    total_price = re.findall(r'\\d+',tag.find('div',{'class':'_tt122m'}).text)\n",
    "    if total_price == None:\n",
    "        return None\n",
    "    else:\n",
    "        return float(total_price[0])\n",
    "get_listing_total_price(first_listing)"
   ]
  },
  {
   "cell_type": "markdown",
   "metadata": {},
   "source": [
    "# Looking for additional data"
   ]
  },
  {
   "cell_type": "markdown",
   "metadata": {},
   "source": [
    "Since we have retrieved the information for the first listing, we will now retrieve the information for all of the listing available at our destination for our set dates.\n",
    "To begin, we need to extract all of the URL pages.\n",
    "If we observe the page, we see that there are 15 pages available, and that the URL follows a particular code structure. Each new page is \"offset\" by 20."
   ]
  },
  {
   "cell_type": "code",
   "execution_count": null,
   "metadata": {},
   "outputs": [],
   "source": [
    "base_url = \"https://airbnb.com\"\n",
    "def get_next_page(page):\n",
    "    a = page.find('a',{'aria-label':'Next'})\n",
    "    return base_url + a['href'] if a else None\n",
    "get_next_page(page)"
   ]
  },
  {
   "cell_type": "code",
   "execution_count": null,
   "metadata": {},
   "outputs": [],
   "source": [
    "def get_listing_data(listing):\n",
    "    return {\n",
    "        'title': get_listing_title(listing),\n",
    "        'subtitle': get_listing_subtitle(listing),\n",
    "        'info': get_listing_info(listing), \n",
    "        'amenities': get_listing_ammenities(listing),\n",
    "        'rating': get_listing_rating(listing),\n",
    "        'reviews': get_listing_reviews(listing),\n",
    "        'price_per_night': get_listing_price_per_night(listing),\n",
    "        'total_price': get_listing_total_price(listing)\n",
    "    }\n",
    "\n",
    "#test get_listing_data\n",
    "get_listing_data(first_listing)"
   ]
  },
  {
   "cell_type": "markdown",
   "metadata": {},
   "source": [
    "We are npw able to retrieve the information for all of the listings"
   ]
  },
  {
   "cell_type": "code",
   "execution_count": null,
   "metadata": {},
   "outputs": [],
   "source": [
    "def add_listings_in_page(page, get_listing_data_func, rows):\n",
    "    listings = page.find_all('div', attrs={\"itemscope\": True});\n",
    "\n",
    "    for listing in listings:\n",
    "        rows.append(get_listing_data_func(listing))\n",
    "\n",
    "#test add_listings_in_page\n",
    "rows = []\n",
    "add_listings_in_page(page, get_listing_data, rows)"
   ]
  },
  {
   "cell_type": "code",
   "execution_count": null,
   "metadata": {},
   "outputs": [],
   "source": [
    "def get_all_listings(start_url, get_listing_data_func):\n",
    "    rows = []\n",
    "\n",
    "    page_url = url\n",
    "    page_count = 0\n",
    "    while page_url != None:\n",
    "        print('Loading page:' + str(page_count))   #  + ' URL:' + page_url\n",
    "        page = get_page_with_retry(page_url)\n",
    "        add_listings_in_page(page, get_listing_data_func, rows)\n",
    "        page_url = get_next_page(page)\n",
    "        page_count += 1\n",
    "    print('Download complete')\n",
    "\n",
    "\n",
    "    return rows\n",
    "\n",
    "all_listings = get_all_listings(url, get_listing_data)"
   ]
  },
  {
   "cell_type": "markdown",
   "metadata": {},
   "source": [
    "# Saving the data"
   ]
  },
  {
   "cell_type": "markdown",
   "metadata": {},
   "source": [
    "We now save the data in dataframe"
   ]
  },
  {
   "cell_type": "code",
   "execution_count": null,
   "metadata": {},
   "outputs": [],
   "source": [
    "airbnb = pd.DataFrame(all_listings, columns=[\"title\",\"subtitle\",\"info\",\"amenities\",\"rating\",\"reviews\",\"price_per_night\",\"total_price\"])\n",
    "airbnb.reset_index(drop=True)\n",
    "airbnb"
   ]
  }
 ],
 "metadata": {
  "kernelspec": {
   "display_name": "Python 3",
   "language": "python",
   "name": "python3"
  },
  "language_info": {
   "codemirror_mode": {
    "name": "ipython",
    "version": 3
   },
   "file_extension": ".py",
   "mimetype": "text/x-python",
   "name": "python",
   "nbconvert_exporter": "python",
   "pygments_lexer": "ipython3",
   "version": "3.8.5"
  }
 },
 "nbformat": 4,
 "nbformat_minor": 4
}
